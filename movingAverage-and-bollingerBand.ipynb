{
 "metadata": {
  "language_info": {
   "codemirror_mode": {
    "name": "ipython",
    "version": 3
   },
   "file_extension": ".py",
   "mimetype": "text/x-python",
   "name": "python",
   "nbconvert_exporter": "python",
   "pygments_lexer": "ipython3",
   "version": "3.9.1-final"
  },
  "orig_nbformat": 2,
  "kernelspec": {
   "name": "python3",
   "display_name": "Python 3.9.1 64-bit",
   "metadata": {
    "interpreter": {
     "hash": "0f6e81a21aeded426c804af9ec2673ef63e40ec8db3ab0e10a389215c93af80d"
    }
   }
  }
 },
 "nbformat": 4,
 "nbformat_minor": 2,
 "cells": [
  {
   "cell_type": "code",
   "execution_count": null,
   "metadata": {},
   "outputs": [],
   "source": [
    "#import matplotlib\n",
    "\n",
    "import matplotlib.pyplot as plt\n",
    "\n",
    "#using quandl.com as the datasource \n",
    "#pre-requisite - python path has to be added in the environment variables\n",
    "#use - pip install quandl to install the library using command prompt\n",
    "\n",
    "import quandl as qd"
   ]
  },
  {
   "cell_type": "code",
   "execution_count": null,
   "metadata": {},
   "outputs": [],
   "source": [
    "#hdfc = quandl.get('XBOM/500010', authtoken='')\n",
    "#authtoken can be found in the user's quandl pofile\n",
    "#authtoken advantage - it allows 50000 free hits in a day to fetch financial data from quandl\n",
    "#note: one can also import data from quandle without creating a quandle account\n",
    "\n",
    "#importing Housing Development Finance Corporation  Ltd. stock data\n",
    "\n",
    "hdfc = quandl.get('XBOM/500010')"
   ]
  },
  {
   "cell_type": "code",
   "execution_count": null,
   "metadata": {},
   "outputs": [],
   "source": [
    "hdfc.info()"
   ]
  },
  {
   "cell_type": "code",
   "execution_count": null,
   "metadata": {},
   "outputs": [],
   "source": [
    "#plotting Open, high, Low and Close data points on a graph for every data row\n",
    "\n",
    "hdfc[['Open','High','Low','Close']].plot(figsize=(18,8))"
   ]
  },
  {
   "cell_type": "code",
   "execution_count": null,
   "metadata": {},
   "outputs": [],
   "source": [
    "#plotting Open, high, Low and Close data points on a graph for last 30 trading days\n",
    "\n",
    "hdfc[['Open','High','Low','Close']].tail(30).plot(figsize=(18,8))"
   ]
  },
  {
   "cell_type": "code",
   "execution_count": null,
   "metadata": {},
   "outputs": [],
   "source": [
    "#resampling data quarterly and considering the mean value as a representative. also removing the unwanted columns\n",
    "#storing the quarterly data in a another variable to keep the master data safe\n",
    "hdfcQuarterlyData = hdfc[['Open','High','Low','Close']].resample(rule='Q').mean()\n",
    "\n",
    "#resample data monthly\n",
    "hdfcMonthlyData = hdfc[['Open','High','Low','Close']].resample(rule='M').mean()\n",
    "\n",
    "#resample data annually\n",
    "\n",
    "hdfcAnnuallylyData = hdfc[['Open','High','Low','Close']].resample(rule='Q').mean()\n",
    "\n",
    "#resample data weekly\n",
    "\n",
    "hdfcWeeklyData = hdfc[['Open','High','Low','Close']].resample(rule='W').mean()"
   ]
  },
  {
   "cell_type": "code",
   "execution_count": null,
   "metadata": {},
   "outputs": [],
   "source": [
    "#plotting quarterly data \n",
    "\n",
    "hdfcQuarterlyData[['Open','High','Low','Close']].plot(figsize=(18,8))"
   ]
  },
  {
   "cell_type": "code",
   "execution_count": null,
   "metadata": {},
   "outputs": [],
   "source": [
    "#plotting monthly data \n",
    "\n",
    "hdfcMonthlyData[['Open','High','Low','Close']].plot(figsize=(18,8))"
   ]
  },
  {
   "cell_type": "code",
   "execution_count": null,
   "metadata": {},
   "outputs": [],
   "source": [
    "#plotting annual data \n",
    "\n",
    "hdfcAnnuallylyData[['Open','High','Low','Close']].plot(figsize=(18,8))"
   ]
  },
  {
   "cell_type": "code",
   "execution_count": null,
   "metadata": {},
   "outputs": [],
   "source": [
    "#plotting weekly data \n",
    "\n",
    "hdfcWeeklyData[['Open','High','Low','Close']].plot(figsize=(18,8))"
   ]
  },
  {
   "cell_type": "code",
   "execution_count": null,
   "metadata": {},
   "outputs": [],
   "source": [
    "#calculating 20 Day Moving Average considering closing price as the baseline\n",
    "\n",
    "hdfc['20 Day Moving Average'] = hdfc['Close'].rolling(window=20).mean()"
   ]
  },
  {
   "cell_type": "code",
   "execution_count": null,
   "metadata": {},
   "outputs": [],
   "source": [
    "#plotting stock closing price and 20 Day Moving Average\n",
    "\n",
    "hdfc[['Close','20 Day Moving Average']].plot(figsize=(18,8))"
   ]
  },
  {
   "cell_type": "code",
   "execution_count": null,
   "metadata": {},
   "outputs": [],
   "source": [
    "#Bollinger Bands are envelopes plotted at a standard deviation level above and below a simple moving average of the price. Because the distance of the bands is based on standard deviation, they adjust to volatility swings in the underlying price. Bollinger Bands use 2 parameters, Period and Standard Deviations, StdDev. Source - www.fidelity.com\n",
    "\n",
    "#When stock prices continually touch the upper Bollinger Band®, the prices are thought to be overbought; conversely, when they continually touch the lower band, prices are thought to be oversold, triggering a buy signal. Source - www.investopedia.com\n",
    "\n",
    "#calculating the Bollinger Band - Upper keeping 20 day moving average as base line and adding 2 times the deviation in the closing price \n",
    "\n",
    "hdfc['Bollinger Band - Upper'] = hdfc['20 Day Moving Average'] + 2 * (hdfc['Close'].rolling(window=20).std())\n",
    "\n",
    "#calculating the Bollinger Band - Lower keeping 20 day moving average as base line and substracting 2 times the deviation in the closing price\n",
    "\n",
    "hdfc['Bollinger Band - Lower'] = hdfc['20 Day Moving Average'] - 2 * (hdfc['Close'].rolling(window=20).std())"
   ]
  },
  {
   "cell_type": "code",
   "execution_count": null,
   "metadata": {},
   "outputs": [],
   "source": [
    "#plotting the stocks closing price with moving average and bollinger bands\n",
    "\n",
    "hdfc[['Bollinger Band - Upper','Close','20 Day Moving Average','Bollinger Band - Lower']].plot(figsize=(18,8))"
   ]
  },
  {
   "cell_type": "code",
   "execution_count": null,
   "metadata": {},
   "outputs": [],
   "source": [
    "#plotting the stocks closing price with moving average and bollinger bands for the past 60 trading days\n",
    "\n",
    "hdfc[['Bollinger Band - Upper','Close','20 Day Moving Average','Bollinger Band - Lower']].tail(60).plot(figsize=(18,8))"
   ]
  },
  {
   "cell_type": "code",
   "execution_count": null,
   "metadata": {},
   "outputs": [],
   "source": [
    "#plotting the stocks closing price with moving average and bollinger bands for the past 365 trading days\n",
    "\n",
    "hdfc[['Bollinger Band - Upper','Close','20 Day Moving Average','Bollinger Band - Lower']].tail(365).plot(figsize=(18,8))"
   ]
  },
  {
   "cell_type": "code",
   "execution_count": null,
   "metadata": {},
   "outputs": [],
   "source": [
    "#the above mentioned plots are plotted on a daily time frame\n",
    "#for weekly, monthly, quarterly and annually time frame charts, one can consider dataframes hdfcWeeklyData, hdfcMonthlyData, hdfcQuarterlyData and hdfcAnnuallylyData created above as baseline and repeat the same steps\n",
    "#note: here mean for a given timeframe is considered for resamplng, user can also select maximum, minimum etc as the representative of the time frame "
   ]
  }
 ]
}